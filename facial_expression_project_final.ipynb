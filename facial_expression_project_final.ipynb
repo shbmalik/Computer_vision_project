{
  "nbformat": 4,
  "nbformat_minor": 0,
  "metadata": {
    "colab": {
      "provenance": [],
      "gpuType": "T4",
      "authorship_tag": "ABX9TyMEAp+FiWOBFwWDNuuUplSj",
      "include_colab_link": true
    },
    "kernelspec": {
      "name": "python3",
      "display_name": "Python 3"
    },
    "language_info": {
      "name": "python"
    },
    "accelerator": "GPU"
  },
  "cells": [
    {
      "cell_type": "markdown",
      "metadata": {
        "id": "view-in-github",
        "colab_type": "text"
      },
      "source": [
        "<a href=\"https://colab.research.google.com/github/shbmalik/Computer_vision_project/blob/main/facial_expression_project_final.ipynb\" target=\"_parent\"><img src=\"https://colab.research.google.com/assets/colab-badge.svg\" alt=\"Open In Colab\"/></a>"
      ]
    },
    {
      "cell_type": "markdown",
      "source": [
        "**Facial Emotion Recognition:**\n",
        "Convolutional Neural Networks (CNNs) have revolutionized the field of computer vision and are at the forefront of cutting-edge technologies. These powerful deep learning models have demonstrated unparalleled capabilities in image recognition, object detection, and semantic segmentation tasks, enabling machines to \"see\" and interpret visual information much like the human visual system. With their ability to automatically extract hierarchical features from raw pixel data, CNNs have found widespread applications in real-world scenarios. From autonomous vehicles navigating complex environments to medical image analysis for disease diagnosis, and from facial recognition for enhanced security to creative applications in art generation, CNNs have become the cornerstone of numerous breakthroughs, offering new insights, efficiency, and accuracy in a diverse range of industries and everyday life. The ability of CNNs to handle large-scale data and learn complex patterns makes them a transformative technology with boundless potential, shaping the future of various fields and significantly impacting our daily experiences."
      ],
      "metadata": {
        "id": "EZJ0bxaoQy-b"
      }
    },
    {
      "cell_type": "markdown",
      "source": [
        "**Step 1: Importing necessary libraries**"
      ],
      "metadata": {
        "id": "DEcVgUe1EA-8"
      }
    },
    {
      "cell_type": "code",
      "execution_count": 1,
      "metadata": {
        "id": "XQ0yMh-oD2H5"
      },
      "outputs": [],
      "source": [
        "import pandas as pd\n",
        "import numpy as np\n",
        "import tensorflow as tf\n",
        "from tensorflow.keras import layers, models, regularizers\n",
        "import keras, os\n",
        "from keras.layers import BatchNormalization\n",
        "from keras.layers import Dense, Conv2D, MaxPool2D, Flatten\n",
        "from keras.optimizers import Adam\n",
        "from keras.preprocessing.image import ImageDataGenerator\n",
        "from keras.models import Sequential\n",
        "import cv2\n",
        "import os\n",
        "import matplotlib.pyplot as plt\n",
        "import zipfile"
      ]
    },
    {
      "cell_type": "markdown",
      "source": [
        "**Step 2: Mounting Google Drive and specify the paths to unzip the folder to access and extraxt files**"
      ],
      "metadata": {
        "id": "JEqHtFx0EMue"
      }
    },
    {
      "cell_type": "code",
      "source": [
        "from google.colab import drive\n",
        "drive.mount('/content/drive')"
      ],
      "metadata": {
        "colab": {
          "base_uri": "https://localhost:8080/"
        },
        "id": "nfTkztrYD8QV",
        "outputId": "7d989d84-96a6-4d44-d9f0-ae6b61d3dc27"
      },
      "execution_count": 2,
      "outputs": [
        {
          "output_type": "stream",
          "name": "stdout",
          "text": [
            "Drive already mounted at /content/drive; to attempt to forcibly remount, call drive.mount(\"/content/drive\", force_remount=True).\n"
          ]
        }
      ]
    },
    {
      "cell_type": "code",
      "source": [
        "# Specify the paths for the zip file and the directory to extract it\n",
        "zipfile1 = '/content/drive/MyDrive/Computer_vision/facial_expression.zip'\n",
        "unzipdirectory = '/content/drive/MyDrive/Computer_vision/'\n"
      ],
      "metadata": {
        "id": "O8P-xg6NESHr"
      },
      "execution_count": 3,
      "outputs": []
    },
    {
      "cell_type": "code",
      "source": [
        "# Extract the zip file containing the dataset\n",
        "with zipfile.ZipFile(zipfile1, 'r') as zip_ref:\n",
        "    zip_ref.extractall(unzipdirectory)"
      ],
      "metadata": {
        "id": "RYPI2o9QEGs7"
      },
      "execution_count": 4,
      "outputs": []
    },
    {
      "cell_type": "code",
      "source": [
        "# Reading and checking the shape of a sample image from the train dataset\n",
        "read_image_train = cv2.imread('/content/drive/MyDrive/Computer_vision/Dataset/train/happiness/100016214.png')\n",
        "read_image_train.shape"
      ],
      "metadata": {
        "colab": {
          "base_uri": "https://localhost:8080/"
        },
        "id": "2w_nDEDCEfDp",
        "outputId": "33cfea17-45bd-4a17-93ff-6e4db2394a6c"
      },
      "execution_count": 4,
      "outputs": [
        {
          "output_type": "execute_result",
          "data": {
            "text/plain": [
              "(48, 48, 3)"
            ]
          },
          "metadata": {},
          "execution_count": 4
        }
      ]
    },
    {
      "cell_type": "code",
      "source": [
        "# Reading and checking the shape of a sample image from the test dataset\n",
        "read_image_test = cv2.imread('/content/drive/MyDrive/Computer_vision/Dataset/test/anger/100730703.png')\n",
        "read_image_test.shape"
      ],
      "metadata": {
        "colab": {
          "base_uri": "https://localhost:8080/"
        },
        "id": "KMHb6lbSMPHv",
        "outputId": "18572683-5881-490e-a8c0-d7d3e618edeb"
      },
      "execution_count": 5,
      "outputs": [
        {
          "output_type": "execute_result",
          "data": {
            "text/plain": [
              "(48, 48, 3)"
            ]
          },
          "metadata": {},
          "execution_count": 5
        }
      ]
    },
    {
      "cell_type": "markdown",
      "source": [
        "**Step 3: preprocess and Create data augmentation for training and validation images**:"
      ],
      "metadata": {
        "id": "hjbLr_sJPE8d"
      }
    },
    {
      "cell_type": "code",
      "source": [
        "# Defining image dimensions and batch size for training the model\n",
        "img_width, img_height = 48, 48\n",
        "batch_size = 64\n"
      ],
      "metadata": {
        "id": "uiHa8h7xEl5A"
      },
      "execution_count": 6,
      "outputs": []
    },
    {
      "cell_type": "code",
      "source": [
        "# Create data augmentation for training images\n",
        "train_datagen = ImageDataGenerator(\n",
        "    rescale=1./255,\n",
        "    shear_range=0.1,\n",
        "    rotation_range=10,\n",
        "    zoom_range=0.1,\n",
        "    width_shift_range=0.1,\n",
        "    height_shift_range=0.1,\n",
        "    vertical_flip=True,\n",
        "    fill_mode='nearest'\n",
        ")"
      ],
      "metadata": {
        "id": "fQZdq4MOEp0n"
      },
      "execution_count": 7,
      "outputs": []
    },
    {
      "cell_type": "code",
      "source": [
        "# Initialize data generator for validation images (only rescale, no augmentation)\n",
        "validation_datagen = ImageDataGenerator(rescale=1./255)\n"
      ],
      "metadata": {
        "id": "Fr006hjQEsRe"
      },
      "execution_count": 8,
      "outputs": []
    },
    {
      "cell_type": "code",
      "source": [
        "# Load and preprocess training data using the data augmentation generator\n",
        "train_generator = train_datagen.flow_from_directory(\n",
        "    '/content/drive/MyDrive/Computer_vision/Dataset/train',\n",
        "    target_size=(img_width, img_height),\n",
        "    batch_size=batch_size,\n",
        "    color_mode=\"rgb\",\n",
        "    class_mode='categorical',\n",
        "    shuffle=True  # Use shuffle for training data\n",
        ")"
      ],
      "metadata": {
        "colab": {
          "base_uri": "https://localhost:8080/"
        },
        "id": "NYY3E8uxEuu1",
        "outputId": "bc759c31-33c2-4b91-9083-c3e6524c941a"
      },
      "execution_count": 9,
      "outputs": [
        {
          "output_type": "stream",
          "name": "stdout",
          "text": [
            "Found 32298 images belonging to 7 classes.\n"
          ]
        }
      ]
    },
    {
      "cell_type": "code",
      "source": [
        "# Load and preprocess validation data using the rescaled data generator\n",
        "validation_generator = validation_datagen.flow_from_directory(\n",
        "    '/content/drive/MyDrive/Computer_vision/Dataset/test',\n",
        "    target_size=(img_width, img_height),\n",
        "    batch_size=batch_size,\n",
        "    color_mode=\"rgb\",\n",
        "    class_mode='categorical',\n",
        "    shuffle=True  # Use shuffle for validation data\n",
        ")"
      ],
      "metadata": {
        "colab": {
          "base_uri": "https://localhost:8080/"
        },
        "id": "NQF4iJpQEzy9",
        "outputId": "192b2f33-6d46-4763-b1ab-3170f89f4373"
      },
      "execution_count": 10,
      "outputs": [
        {
          "output_type": "stream",
          "name": "stdout",
          "text": [
            "Found 3589 images belonging to 7 classes.\n"
          ]
        }
      ]
    },
    {
      "cell_type": "markdown",
      "source": [
        "**Step 4: Build the CNN model**"
      ],
      "metadata": {
        "id": "tEqe-jevPq09"
      }
    },
    {
      "cell_type": "code",
      "source": [
        "# Define the CNN model architecture\n",
        "model = models.Sequential()\n",
        "model.add(layers.Conv2D(32, (3, 3), padding='valid', activation='relu', input_shape=(img_width, img_height, 3)))\n",
        "model.add(BatchNormalization())\n",
        "model.add(layers.MaxPooling2D((2, 2)))\n",
        "model.add(layers.Dropout(0.15))\n",
        "\n",
        "model.add(layers.Conv2D(64, (3, 3), padding='valid', activation='relu'))\n",
        "model.add(layers.MaxPooling2D((2, 2)))\n",
        "\n",
        "model.add(layers.Conv2D(128, (3, 3), padding='valid', activation='relu'))\n",
        "model.add(layers.MaxPooling2D((2, 2)))\n",
        "model.add(layers.Dropout(0.25))\n",
        "\n",
        "model.add(layers.Flatten())\n",
        "model.add(layers.Dense(1024, activation='relu'))\n",
        "model.add(layers.Dropout(0.5))\n",
        "model.add(layers.Dense(7, activation='softmax'))\n",
        "\n",
        "model.summary()"
      ],
      "metadata": {
        "colab": {
          "base_uri": "https://localhost:8080/"
        },
        "id": "enfry7kCFR72",
        "outputId": "07641399-e036-4676-886b-cae45d6de163"
      },
      "execution_count": 11,
      "outputs": [
        {
          "output_type": "stream",
          "name": "stdout",
          "text": [
            "Model: \"sequential\"\n",
            "_________________________________________________________________\n",
            " Layer (type)                Output Shape              Param #   \n",
            "=================================================================\n",
            " conv2d (Conv2D)             (None, 46, 46, 32)        896       \n",
            "                                                                 \n",
            " batch_normalization (BatchN  (None, 46, 46, 32)       128       \n",
            " ormalization)                                                   \n",
            "                                                                 \n",
            " max_pooling2d (MaxPooling2D  (None, 23, 23, 32)       0         \n",
            " )                                                               \n",
            "                                                                 \n",
            " dropout (Dropout)           (None, 23, 23, 32)        0         \n",
            "                                                                 \n",
            " conv2d_1 (Conv2D)           (None, 21, 21, 64)        18496     \n",
            "                                                                 \n",
            " max_pooling2d_1 (MaxPooling  (None, 10, 10, 64)       0         \n",
            " 2D)                                                             \n",
            "                                                                 \n",
            " conv2d_2 (Conv2D)           (None, 8, 8, 128)         73856     \n",
            "                                                                 \n",
            " max_pooling2d_2 (MaxPooling  (None, 4, 4, 128)        0         \n",
            " 2D)                                                             \n",
            "                                                                 \n",
            " dropout_1 (Dropout)         (None, 4, 4, 128)         0         \n",
            "                                                                 \n",
            " flatten (Flatten)           (None, 2048)              0         \n",
            "                                                                 \n",
            " dense (Dense)               (None, 1024)              2098176   \n",
            "                                                                 \n",
            " dropout_2 (Dropout)         (None, 1024)              0         \n",
            "                                                                 \n",
            " dense_1 (Dense)             (None, 7)                 7175      \n",
            "                                                                 \n",
            "=================================================================\n",
            "Total params: 2,198,727\n",
            "Trainable params: 2,198,663\n",
            "Non-trainable params: 64\n",
            "_________________________________________________________________\n"
          ]
        }
      ]
    },
    {
      "cell_type": "markdown",
      "source": [
        "**Step 5: Compile the model**"
      ],
      "metadata": {
        "id": "0TZWbME-QAvX"
      }
    },
    {
      "cell_type": "code",
      "source": [
        "# Compile the model\n",
        "model.compile(\n",
        "    optimizer=Adam(learning_rate=0.0001, decay=1e-6),\n",
        "    loss='categorical_crossentropy',\n",
        "    metrics=['accuracy']\n",
        ")"
      ],
      "metadata": {
        "id": "EiiQr_vfFXE9"
      },
      "execution_count": 12,
      "outputs": []
    },
    {
      "cell_type": "markdown",
      "source": [
        "**Step 6: Train the model**"
      ],
      "metadata": {
        "id": "a0KJ63y8QMAL"
      }
    },
    {
      "cell_type": "code",
      "source": [
        "# Number of training samples and steps per epoch\n",
        "num_train_samples = len(train_generator.filenames)\n",
        "steps_per_epoch = num_train_samples // batch_size\n",
        "\n",
        "# Number of epochs for training\n",
        "epochs = 30\n",
        "\n",
        "# Train the model\n",
        "train_model = model.fit(\n",
        "    train_generator,\n",
        "    steps_per_epoch=steps_per_epoch,\n",
        "    epochs=epochs,\n",
        "    validation_data=validation_generator\n",
        ")\n"
      ],
      "metadata": {
        "colab": {
          "base_uri": "https://localhost:8080/"
        },
        "id": "nQz0uuWeFbK8",
        "outputId": "528fa3ac-5fe7-4ea2-a097-1e4ac2beb0cb"
      },
      "execution_count": 13,
      "outputs": [
        {
          "output_type": "stream",
          "name": "stdout",
          "text": [
            "Epoch 1/30\n",
            "504/504 [==============================] - 3943s 8s/step - loss: 1.8043 - accuracy: 0.2550 - val_loss: 1.7696 - val_accuracy: 0.2842\n",
            "Epoch 2/30\n",
            "504/504 [==============================] - 86s 171ms/step - loss: 1.7439 - accuracy: 0.2877 - val_loss: 1.7028 - val_accuracy: 0.3235\n",
            "Epoch 3/30\n",
            "504/504 [==============================] - 91s 181ms/step - loss: 1.6960 - accuracy: 0.3197 - val_loss: 1.6088 - val_accuracy: 0.3748\n",
            "Epoch 4/30\n",
            "504/504 [==============================] - 90s 179ms/step - loss: 1.6514 - accuracy: 0.3479 - val_loss: 1.5856 - val_accuracy: 0.3898\n",
            "Epoch 5/30\n",
            "504/504 [==============================] - 86s 171ms/step - loss: 1.6040 - accuracy: 0.3749 - val_loss: 1.4883 - val_accuracy: 0.4274\n",
            "Epoch 6/30\n",
            "504/504 [==============================] - 91s 180ms/step - loss: 1.5688 - accuracy: 0.3929 - val_loss: 1.5406 - val_accuracy: 0.4065\n",
            "Epoch 7/30\n",
            "504/504 [==============================] - 91s 180ms/step - loss: 1.5437 - accuracy: 0.4041 - val_loss: 1.4219 - val_accuracy: 0.4570\n",
            "Epoch 8/30\n",
            "504/504 [==============================] - 90s 179ms/step - loss: 1.5146 - accuracy: 0.4157 - val_loss: 1.3973 - val_accuracy: 0.4578\n",
            "Epoch 9/30\n",
            "504/504 [==============================] - 86s 170ms/step - loss: 1.4880 - accuracy: 0.4285 - val_loss: 1.3599 - val_accuracy: 0.4862\n",
            "Epoch 10/30\n",
            "504/504 [==============================] - 86s 170ms/step - loss: 1.4709 - accuracy: 0.4351 - val_loss: 1.3463 - val_accuracy: 0.4823\n",
            "Epoch 11/30\n",
            "504/504 [==============================] - 86s 170ms/step - loss: 1.4556 - accuracy: 0.4407 - val_loss: 1.3284 - val_accuracy: 0.4851\n",
            "Epoch 12/30\n",
            "504/504 [==============================] - 90s 180ms/step - loss: 1.4387 - accuracy: 0.4525 - val_loss: 1.2989 - val_accuracy: 0.4999\n",
            "Epoch 13/30\n",
            "504/504 [==============================] - 91s 181ms/step - loss: 1.4186 - accuracy: 0.4593 - val_loss: 1.2884 - val_accuracy: 0.5085\n",
            "Epoch 14/30\n",
            "504/504 [==============================] - 91s 181ms/step - loss: 1.4055 - accuracy: 0.4616 - val_loss: 1.2704 - val_accuracy: 0.5222\n",
            "Epoch 15/30\n",
            "504/504 [==============================] - 86s 170ms/step - loss: 1.3912 - accuracy: 0.4686 - val_loss: 1.2632 - val_accuracy: 0.5263\n",
            "Epoch 16/30\n",
            "504/504 [==============================] - 91s 180ms/step - loss: 1.3727 - accuracy: 0.4784 - val_loss: 1.2696 - val_accuracy: 0.5113\n",
            "Epoch 17/30\n",
            "504/504 [==============================] - 86s 170ms/step - loss: 1.3607 - accuracy: 0.4790 - val_loss: 1.2390 - val_accuracy: 0.5283\n",
            "Epoch 18/30\n",
            "504/504 [==============================] - 85s 169ms/step - loss: 1.3530 - accuracy: 0.4834 - val_loss: 1.2300 - val_accuracy: 0.5339\n",
            "Epoch 19/30\n",
            "504/504 [==============================] - 86s 170ms/step - loss: 1.3407 - accuracy: 0.4907 - val_loss: 1.2124 - val_accuracy: 0.5344\n",
            "Epoch 20/30\n",
            "504/504 [==============================] - 84s 167ms/step - loss: 1.3357 - accuracy: 0.4899 - val_loss: 1.2150 - val_accuracy: 0.5397\n",
            "Epoch 21/30\n",
            "504/504 [==============================] - 84s 167ms/step - loss: 1.3182 - accuracy: 0.4968 - val_loss: 1.2226 - val_accuracy: 0.5408\n",
            "Epoch 22/30\n",
            "504/504 [==============================] - 86s 171ms/step - loss: 1.3141 - accuracy: 0.4946 - val_loss: 1.2013 - val_accuracy: 0.5442\n",
            "Epoch 23/30\n",
            "504/504 [==============================] - 93s 185ms/step - loss: 1.3125 - accuracy: 0.4979 - val_loss: 1.1844 - val_accuracy: 0.5428\n",
            "Epoch 24/30\n",
            "504/504 [==============================] - 94s 186ms/step - loss: 1.2988 - accuracy: 0.5020 - val_loss: 1.1788 - val_accuracy: 0.5500\n",
            "Epoch 25/30\n",
            "504/504 [==============================] - 89s 177ms/step - loss: 1.2871 - accuracy: 0.5092 - val_loss: 1.1748 - val_accuracy: 0.5550\n",
            "Epoch 26/30\n",
            "504/504 [==============================] - 88s 176ms/step - loss: 1.2840 - accuracy: 0.5123 - val_loss: 1.1626 - val_accuracy: 0.5662\n",
            "Epoch 27/30\n",
            "504/504 [==============================] - 90s 179ms/step - loss: 1.2801 - accuracy: 0.5162 - val_loss: 1.1613 - val_accuracy: 0.5598\n",
            "Epoch 28/30\n",
            "504/504 [==============================] - 84s 166ms/step - loss: 1.2692 - accuracy: 0.5167 - val_loss: 1.1724 - val_accuracy: 0.5492\n",
            "Epoch 29/30\n",
            "504/504 [==============================] - 84s 166ms/step - loss: 1.2639 - accuracy: 0.5153 - val_loss: 1.1523 - val_accuracy: 0.5584\n",
            "Epoch 30/30\n",
            "504/504 [==============================] - 83s 166ms/step - loss: 1.2561 - accuracy: 0.5273 - val_loss: 1.1388 - val_accuracy: 0.5751\n"
          ]
        }
      ]
    },
    {
      "cell_type": "code",
      "source": [
        "#facial_emotion_model= model"
      ],
      "metadata": {
        "id": "XtkodYE-10s6"
      },
      "execution_count": null,
      "outputs": []
    },
    {
      "cell_type": "code",
      "source": [
        "test_loss, test_acc =model.evaluate(validation_generator, verbose=2)\n",
        "\n",
        "print('\\nTest accuracy:', test_acc)\n",
        "model.save('emotion_detection_model_30epochs.h5')"
      ],
      "metadata": {
        "colab": {
          "base_uri": "https://localhost:8080/"
        },
        "id": "b-ufBu_IR3lC",
        "outputId": "51bf572e-eef1-476b-9573-35bf18b00516"
      },
      "execution_count": 15,
      "outputs": [
        {
          "output_type": "stream",
          "name": "stdout",
          "text": [
            "57/57 - 5s - loss: 1.1388 - accuracy: 0.5751 - 5s/epoch - 95ms/step\n",
            "\n",
            "Test accuracy: 0.5750905275344849\n"
          ]
        }
      ]
    },
    {
      "cell_type": "code",
      "source": [
        "loss = train_model.history['loss']\n",
        "val_loss = train_model.history['val_loss']\n",
        "\n",
        "epochs = range(1, len(loss) + 1)\n",
        "\n",
        "plt.plot(epochs, loss, 'y', label='Training loss')\n",
        "plt.plot(epochs, val_loss, 'r', label='Validation loss')\n",
        "plt.title('Training and validation loss')\n",
        "plt.xlabel('Epochs')\n",
        "plt.ylabel('Loss')\n",
        "plt.legend()\n",
        "plt.show()\n",
        "\n",
        "acc = train_model.history['accuracy']\n",
        "#acc = history.history['accuracy']\n",
        "val_acc = train_model.history['val_accuracy']\n",
        "#val_acc = history.history['val_accuracy']\n",
        "\n",
        "plt.plot(epochs, acc, 'y', label='Training acc')\n",
        "plt.plot(epochs, val_acc, 'r', label='Validation acc')\n",
        "plt.title('Training and validation accuracy')\n",
        "plt.xlabel('Epochs')\n",
        "plt.ylabel('Accuracy')\n",
        "plt.legend()\n",
        "plt.show()\n",
        "\n"
      ],
      "metadata": {
        "colab": {
          "base_uri": "https://localhost:8080/",
          "height": 927
        },
        "id": "VuqpCRBAiBUA",
        "outputId": "9c404ad7-dbda-4252-f334-aac7a8f2f3f5"
      },
      "execution_count": 16,
      "outputs": [
        {
          "output_type": "display_data",
          "data": {
            "text/plain": [
              "<Figure size 640x480 with 1 Axes>"
            ],
            "image/png": "[encoded data removed]"
          },
          "metadata": {}
        },
        {
          "output_type": "display_data",
          "data": {
            "text/plain": [
              "<Figure size 640x480 with 1 Axes>"
            ],
            "image/png": "[encoded data removed]"
          },
          "metadata": {}
        }
      ]
    },
    {
      "cell_type": "code",
      "source": [
        "from keras.models import load_model\n",
        "#import numpy as np\n",
        "my_model = load_model('emotion_detection_model_30epochs.h5', compile=False)\n",
        "\n",
        "#Generate a batch of images\n",
        "test_img, test_lbl = validation_generator.__next__()\n",
        "predictions=my_model.predict(test_img)\n",
        "\n",
        "predictions = np.argmax(predictions, axis=1)\n",
        "test_labels = np.argmax(test_lbl, axis=1)\n"
      ],
      "metadata": {
        "colab": {
          "base_uri": "https://localhost:8080/"
        },
        "id": "YooQ0v9IiI0k",
        "outputId": "5f24322f-61a1-4796-f72b-2aa2f43c1000"
      },
      "execution_count": 17,
      "outputs": [
        {
          "output_type": "stream",
          "name": "stdout",
          "text": [
            "2/2 [==============================] - 0s 5ms/step\n"
          ]
        }
      ]
    },
    {
      "cell_type": "code",
      "source": [
        "\n",
        "from sklearn import metrics\n",
        "import seaborn as sns\n",
        "import random\n",
        "print (\"Accuracy = \", metrics.accuracy_score(test_labels, predictions))\n",
        "\n",
        "#Confusion Matrix - verify accuracy of each class\n",
        "from sklearn.metrics import confusion_matrix\n",
        "\n",
        "cm = confusion_matrix(test_labels, predictions)\n",
        "#print(cm)\n",
        "import seaborn as sns\n",
        "sns.heatmap(cm, annot=True)\n",
        "\n",
        "class_labels=['Angry','Disgust', 'Fear', 'Happy','Neutral','Sad','Surprise']\n",
        "#Check results on a few select images\n",
        "n=random.randint(0, test_img.shape[1] - 1)\n",
        "image = test_img[n]\n",
        "orig_labl = class_labels[test_labels[n]]\n",
        "pred_labl = class_labels[predictions[n]]\n",
        "plt.imshow(image[:,:,0], cmap='gray')\n",
        "plt.title(\"Original label is:\"+orig_labl+\" Predicted is: \"+ pred_labl)\n",
        "plt.show()"
      ],
      "metadata": {
        "colab": {
          "base_uri": "https://localhost:8080/",
          "height": 469
        },
        "id": "46I3AR_iiXRa",
        "outputId": "5eb813bf-a7ab-45db-ab8d-c676c39feed2"
      },
      "execution_count": 18,
      "outputs": [
        {
          "output_type": "stream",
          "name": "stdout",
          "text": [
            "Accuracy =  0.53125\n"
          ]
        },
        {
          "output_type": "display_data",
          "data": {
            "text/plain": [
              "<Figure size 640x480 with 2 Axes>"
            ],
            "image/png": "[encoded data removed]"
          },
          "metadata": {}
        }
      ]
    },
    {
      "cell_type": "code",
      "source": [
        "#save in a jason file\n",
        "model_json=model.to_json()\n",
        "with open(\"emotion_model.json\",\"w\")as json_file:\n",
        "  json_file.write(model_json)"
      ],
      "metadata": {
        "id": "1xtM3cddiaSC"
      },
      "execution_count": 21,
      "outputs": []
    },
    {
      "cell_type": "code",
      "source": [
        "model.save_weights('emotion_model.h5')"
      ],
      "metadata": {
        "id": "EJ5lvNkhifJj"
      },
      "execution_count": 22,
      "outputs": []
    },
    {
      "cell_type": "code",
      "source": [],
      "metadata": {
        "id": "WK_CMw33tqxI"
      },
      "execution_count": null,
      "outputs": []
    }
  ]
}